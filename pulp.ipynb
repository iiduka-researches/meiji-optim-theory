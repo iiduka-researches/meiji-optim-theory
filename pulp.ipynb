{
 "cells": [
  {
   "cell_type": "markdown",
   "metadata": {},
   "source": [
    "# PuLP を用いた線形計画問題のモデリングとその最適化\n",
    "## 前準備\n",
    "PuLP を用いるには、JupyterLab(Anaconda) 上のTerminal で、事前に\n",
    "```bash\n",
    "% pip install pulp\n",
    "```\n",
    "コマンドを実行し、PuLP をインストールする必要があります。\n",
    "\n",
    "## 簡単な例\n",
    "次の最適化問題を考えましょう。\n",
    "\\begin{align*}\n",
    "\\text{Minimize }\n",
    "& -4x + y\\\\\n",
    "\\text{subject to }\n",
    "& x + y \\le 2,\\\\\n",
    "& 0 \\le x \\le 3, y \\ge 0.\n",
    "\\end{align*}\n",
    "PuLP では、この数式をそのまま打ち込むことで、線形計画問題を解くことができます。\n",
    "\n",
    "### Step 1. モジュールのインポートと変数の宣言\n",
    "今回は、$x$ と$y$ の2つの変数を用いて最適化問題をモデリングします。\n",
    "なので、最初にこれらを宣言しましょう。"
   ]
  },
  {
   "cell_type": "code",
   "execution_count": 1,
   "metadata": {},
   "outputs": [],
   "source": [
    "from pulp import *\n",
    "x = LpVariable('x', 0, 3)\n",
    "y = LpVariable('y', 0)"
   ]
  },
  {
   "cell_type": "markdown",
   "metadata": {},
   "source": [
    "いま考えている問題では、変数$x$ は$[0, 3]$、変数$y$ は$[0,\\infty)$ の範囲を取ることを許すので、これらも変数宣言時に指定します。\n",
    "変数$y$ で見たように、上に有界でない変数については、第3引数を指定する必要はありません。\n",
    "\n",
    "### Step 2. 最適化問題の構築\n",
    "続いて、最適化問題をPuLP 上で構築しましょう。"
   ]
  },
  {
   "cell_type": "code",
   "execution_count": 2,
   "metadata": {},
   "outputs": [],
   "source": [
    "problem = LpProblem('簡単な例', LpMinimize)\n",
    "problem += -4 * x + y, \"目的関数\"\n",
    "problem += x + y <= 2, \"制約式(1)\""
   ]
  },
  {
   "cell_type": "markdown",
   "metadata": {},
   "source": [
    "今回は最小化問題を考えるので、`LpProblem` 呼び出しの第一引数には`LpMinimize` を指定していますが、最大化問題を考えるときは`LpMaximize` を指定します。\n",
    "目的関数や制約式は、最適化問題を表すオブジェクト`problems` に`+=` 演算子を用いて追加していきます。\n",
    "追加する式が比較式であれば制約式として、線形関数であれば目的関数として自動的に認識されます。\n",
    "\n",
    "### Step 3. 最適化\n",
    "PuLP を用いて構築した最適化問題を実際に解いてみましょう。\n",
    "最適化問題を解くためには、構築した最適化問題`problem` の`solve` メソッドを呼び出すだけです。"
   ]
  },
  {
   "cell_type": "code",
   "execution_count": 3,
   "metadata": {},
   "outputs": [
    {
     "data": {
      "text/plain": [
       "'Optimal'"
      ]
     },
     "execution_count": 3,
     "metadata": {},
     "output_type": "execute_result"
    }
   ],
   "source": [
    "LpStatus[problem.solve()]"
   ]
  },
  {
   "cell_type": "markdown",
   "metadata": {},
   "source": [
    "実行後には、最適化問題を解くことができれば`Optimal` と、解けなければ`Not Solved`と表示されます。\n",
    "特に、制約式をすべて満たせない場合は`Infeasible`、またどこまでも無制限に関数値を最小または最大化できる場合は`Unbounded` などと表示されます。\n",
    "各変数の最適値は、それぞれの変数の`varValue` プロパティから確認することができます。"
   ]
  },
  {
   "cell_type": "code",
   "execution_count": 4,
   "metadata": {},
   "outputs": [
    {
     "data": {
      "text/plain": [
       "2.0"
      ]
     },
     "execution_count": 4,
     "metadata": {},
     "output_type": "execute_result"
    }
   ],
   "source": [
    "x.varValue"
   ]
  },
  {
   "cell_type": "markdown",
   "metadata": {},
   "source": [
    "最適化に用いたすべての変数とその最適値の一覧を出力することもできます。"
   ]
  },
  {
   "cell_type": "code",
   "execution_count": 5,
   "metadata": {},
   "outputs": [
    {
     "name": "stdout",
     "output_type": "stream",
     "text": [
      "目的関数値: -8.00000000\n",
      "x=2.00000000\n",
      "y=0.00000000\n"
     ]
    }
   ],
   "source": [
    "print('目的関数値: %.8f' % value(problem.objective))\n",
    "for var in problem.variables():\n",
    "    print('%s=%.8f' % (var.name, var.varValue))"
   ]
  },
  {
   "cell_type": "markdown",
   "metadata": {},
   "source": [
    "## ほかの例\n",
    "PuLP を用いて最適化問題を解く多くのサンプルプログラムが[GitHub リポジトリ](https://github.com/coin-or/pulp/tree/master/examples) 上で公開されています。\n",
    "PuLP のより高度な使い方や活用事例などは、このサンプルプログラムを参考にするとよいでしょう。\n",
    "\n",
    "# 参考文献\n",
    "  * J. S. Roy, S. A. Mitchell [PuLP: A python Linear Programming API](https://github.com/coin-or/pulp).\n",
    "  * S. Mitchell, A. Kean, A. Mason, M. O’Sullivan, A. Phillips: [Optimization with PuLP](https://pythonhosted.org/PuLP/)."
   ]
  }
 ],
 "metadata": {
  "kernelspec": {
   "display_name": "Python 3",
   "language": "python",
   "name": "python3"
  },
  "language_info": {
   "codemirror_mode": {
    "name": "ipython",
    "version": 3
   },
   "file_extension": ".py",
   "mimetype": "text/x-python",
   "name": "python",
   "nbconvert_exporter": "python",
   "pygments_lexer": "ipython3",
   "version": "3.6.6"
  }
 },
 "nbformat": 4,
 "nbformat_minor": 2
}
