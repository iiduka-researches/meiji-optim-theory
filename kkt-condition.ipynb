{
 "cells": [
  {
   "cell_type": "markdown",
   "metadata": {},
   "source": [
    "# 凸計画とKKT条件\n",
    "## 前準備\n",
    "この演習では、Python 用凸計画パッケージ`cvxopt` を使用します。\n",
    "事前に、\n",
    "```shell\n",
    "% pip install cvxopt\n",
    "```\n",
    "または、\n",
    "```shell\n",
    "% conda install cvxopt\n",
    "```\n",
    "コマンドを実行し、`cvxopt` をインストールしてから演習を開始して下さい。"
   ]
  },
  {
   "cell_type": "markdown",
   "metadata": {},
   "source": [
    "## 凸２次計画問題\n",
    "ここでは、以下の凸２次計画問題を解くことを考えましょう。\n",
    "\\begin{align*}\n",
    "\\text{目的関数: }\n",
    "& f(x):=\\frac{1}{2} x^\\top Qx+c\\top x\\to\\text{最小}\\\\\n",
    "\\text{制約条件: }\n",
    "& Ax\\le b\n",
    "\\end{align*}\n",
    "ただし、$Q\\in\\mathbb{R}^{n\\times n}$ は半正定値対称行列、$c\\in\\mathbb{R}^2$、また$A\\in\\mathbb{R}^{m\\times n}$, $b\\in\\mathbb{R}^m$ とします。\n",
    "ここでは、$n:=2$ として、下記のパラメータを用意しましょう。"
   ]
  },
  {
   "cell_type": "code",
   "execution_count": 1,
   "metadata": {},
   "outputs": [],
   "source": [
    "from cvxopt import matrix\n",
    "\n",
    "Q = matrix([10., 21., 21., 97.], (2, 2))\n",
    "c = matrix([-2, -1], (2, 1))\n",
    "A = matrix([5., 8., 3., 8.], (2, 2))\n",
    "b = matrix([0., 5.], (2, 1))"
   ]
  },
  {
   "cell_type": "markdown",
   "metadata": {},
   "source": [
    "## `cvxopt` を用いた非線形凸計画\n",
    "`cvxopt` には、非線形凸計画ソルバ`cvxopt.solvers.cp` が含まれています。\n",
    "これを用いると、例えば次のような非線形計画問題、\n",
    "\\begin{align*}\n",
    "\\text{目的関数: }\n",
    "& f(x)\\to\\text{最小}\\\\\n",
    "\\text{制約条件: }\n",
    "& Ax\\le b\n",
    "\\end{align*}\n",
    "を解くことができます。\n",
    "ここで、$f:\\mathbb{R}^n\\to\\mathbb{R}$ は2回連続的微分可能な凸関数、$A\\in\\mathbb{R}^{n\\times n}$, $b\\in\\mathbb{R}^n$ とします。\n",
    "非線形凸計画ソルバ`cvxopt.solvers.cp` は、次の形式で呼び出すことで、与えられた最適化問題を解きます。\n",
    "(詳細は、[CVXOPT User's Guide](https://cvxopt.org/userguide/solvers.html) を参照のこと。)\n",
    "```python\n",
    "def F(x=None, z=None):\n",
    "    if x is None: return 0, (初期点)\n",
    "    func = (x での目的関数値)\n",
    "    grad = (x での勾配)\n",
    "    if z is None: return func, grad\n",
    "    hess = z * (x でのヘッセ行列)\n",
    "    return func, grad, hess\n",
    "(結果) = solvers.cp(F, A, b)\n",
    "```\n",
    "では、早速先程の凸２次計画問題を解いてみましょう。"
   ]
  },
  {
   "cell_type": "code",
   "execution_count": 2,
   "metadata": {},
   "outputs": [
    {
     "name": "stdout",
     "output_type": "stream",
     "text": [
      "     pcost       dcost       gap    pres   dres\n",
      " 0:  0.0000e+00 -5.0000e+00  3e+00  1e+00  1e+00\n",
      " 1: -2.0577e-01  6.3050e-01  8e-01  6e-01  6e-01\n",
      " 2:  4.1537e-02 -1.4419e-01  3e-01  2e-02  4e-17\n",
      " 3: -2.1284e-03 -8.4639e-03  1e-02  1e-03  5e-17\n",
      " 4: -2.9605e-04 -3.9138e-04  2e-04  1e-05  9e-17\n",
      " 5: -2.6556e-04 -2.6652e-04  2e-06  2e-07  6e-17\n",
      " 6: -2.6526e-04 -2.6526e-04  2e-08  2e-09  7e-17\n",
      "Optimal solution found.\n"
     ]
    },
    {
     "data": {
      "text/plain": [
       "(0.0015915117251406369, -0.0026525199525655966)"
      ]
     },
     "execution_count": 2,
     "metadata": {},
     "output_type": "execute_result"
    }
   ],
   "source": [
    "from cvxopt import matrix, solvers\n",
    "\n",
    "def F(x=None, z=None):\n",
    "    if x is None: return 0, matrix(0., (2, 1))\n",
    "    func = x.T * Q * x / 2. + c.T * x\n",
    "    grad = (Q * x + c).T\n",
    "    if z is None: return func, grad\n",
    "    hess = z * Q\n",
    "    return func, grad, hess\n",
    "solution = solvers.cp(F, A, b)\n",
    "solution['x'][0], solution['x'][1]"
   ]
  },
  {
   "cell_type": "markdown",
   "metadata": {},
   "source": [
    "計算結果は、不等式制約に対するスラック変数$s_l(\\in\\mathbb{R}^m)\\ge 0$と、パラメータ$z_l(\\in\\mathbb{R}^m)\\ge 0$ について、以下のKKT 条件を(近似的に)満たすよう求められます。\n",
    "\\begin{align*}\n",
    "\\nabla f(x)+A^\\top z_l=0,\\\\\n",
    "Ax+s_l=b,\\\\\n",
    "s_l^\\top z_l=0.\n",
    "\\end{align*}\n",
    "これをそれぞれ確認してみましょう。"
   ]
  },
  {
   "cell_type": "code",
   "execution_count": 3,
   "metadata": {},
   "outputs": [
    {
     "name": "stdout",
     "output_type": "stream",
     "text": [
      "[ 1.33e-15]\n",
      "[ 8.88e-16]\n",
      "\n"
     ]
    }
   ],
   "source": [
    "func, grad = F(solution['x'])\n",
    "print(grad.T + A.T * solution['zl'])"
   ]
  },
  {
   "cell_type": "code",
   "execution_count": 4,
   "metadata": {},
   "outputs": [
    {
     "name": "stdout",
     "output_type": "stream",
     "text": [
      "Ax+s_l=\n",
      "[-4.98e-19]\n",
      "[ 5.00e+00]\n",
      "\n",
      "b=\n",
      "[ 0.00e+00]\n",
      "[ 5.00e+00]\n",
      "\n"
     ]
    }
   ],
   "source": [
    "print('Ax+s_l=')\n",
    "print(A * solution['x'] + solution['sl'])\n",
    "print('b=')\n",
    "print(b)"
   ]
  },
  {
   "cell_type": "code",
   "execution_count": 5,
   "metadata": {},
   "outputs": [
    {
     "name": "stdout",
     "output_type": "stream",
     "text": [
      "[ 1.32e-08]\n",
      "\n"
     ]
    }
   ],
   "source": [
    "print(solution['sl'].T * solution['zl'])"
   ]
  },
  {
   "cell_type": "markdown",
   "metadata": {},
   "source": [
    "## KKT条件とベクトルの均衡\n",
    "それでは、KKT 条件が表す均衡関係を図示してみましょう。"
   ]
  },
  {
   "cell_type": "code",
   "execution_count": 6,
   "metadata": {},
   "outputs": [
    {
     "data": {
      "image/png": "[encoded data removed]",
      "text/plain": [
       "<Figure size 432x288 with 1 Axes>"
      ]
     },
     "metadata": {
      "needs_background": "light"
     },
     "output_type": "display_data"
    }
   ],
   "source": [
    "%matplotlib inline\n",
    "import numpy as np\n",
    "from matplotlib import pyplot\n",
    "\n",
    "A, b = np.array(A), np.array(b).reshape(len(b))\n",
    "zl = np.array(solution['zl']).reshape(len(solution['zl']))\n",
    "\n",
    "X, Y = np.meshgrid(np.linspace(-5, 5, 150), np.linspace(-5, 5, 150))\n",
    "Z = np.array([1 - 2 * (np.dot(A, row) - b <= 0).all() for row in np.vstack([X.ravel(), Y.ravel()]).T]).reshape(X.shape)\n",
    "pyplot.contourf(X, Y, Z, cmap='Pastel1')\n",
    "pyplot.arrow(solution['x'][0], solution['x'][1], grad[0], grad[1], length_includes_head=True, head_width=0.5, head_length=0.5)\n",
    "for i, z in enumerate(zl):\n",
    "    pyplot.arrow(solution['x'][0], solution['x'][1], A[i, 0] * z, A[i, 1] * z, head_width=0.5, head_length=0.5)"
   ]
  },
  {
   "cell_type": "markdown",
   "metadata": {},
   "source": [
    "目的関数の勾配(赤色方向の領域へのベクトル) は、制約式の勾配(緑色方向の領域へのベクトル) と釣り合っていることが分かります。\n",
    "特に、有効な(解が境界(右下の直線)上にある)制約のベクトルは、そのノルムを持ち、関係のない(解が境界(左上の直線)上にない)制約のベクトルは、ノルム0 となっていることが分かります。"
   ]
  }
 ],
 "metadata": {
  "kernelspec": {
   "display_name": "Python 3",
   "language": "python",
   "name": "python3"
  },
  "language_info": {
   "codemirror_mode": {
    "name": "ipython",
    "version": 3
   },
   "file_extension": ".py",
   "mimetype": "text/x-python",
   "name": "python",
   "nbconvert_exporter": "python",
   "pygments_lexer": "ipython3",
   "version": "3.6.8"
  }
 },
 "nbformat": 4,
 "nbformat_minor": 2
}
