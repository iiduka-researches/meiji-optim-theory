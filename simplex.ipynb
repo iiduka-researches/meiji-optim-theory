{
 "cells": [
  {
   "cell_type": "markdown",
   "metadata": {},
   "source": [
    "# 単体法による線形計画問題の解法\n",
    "ここでは、単体法を用いて次の線形計画問題を解くことを考えましょう。\n",
    "\\begin{align*}\n",
    "\\text{Minimize }\n",
    "& c^\\top x\\\\\n",
    "\\text{subject to }\n",
    "& Ax\\le b,\\\\\n",
    "& x\\ge 0,\n",
    "\\end{align*}\n",
    "ただし、\n",
    "\\begin{align*}\n",
    "c&:=(-1, 4)^\\top,\\\\\n",
    "A&:=\\begin{pmatrix}\n",
    "-3 & 1\\\\\n",
    "1 & 2\n",
    "\\end{pmatrix},\\\\\n",
    "b&:=(6, 4)^\\top\n",
    "\\end{align*}\n",
    "とします。\n",
    "\n",
    "単体法による線形計画問題の最適化は、Anaconda に標準で付属しているSciPy に実装されています。\n",
    "今回は、これを用いて最適化を行いましょう。\n",
    "\n",
    "まずは、ベクトル$c\\in\\mathbb{R}^n$、行列$A\\in\\mathbb{R}^{m\\times n}$、ベクトル$b\\in\\mathbb{R}^m$ をそれぞれNumPy 行列として表現します。"
   ]
  },
  {
   "cell_type": "code",
   "execution_count": 1,
   "metadata": {},
   "outputs": [],
   "source": [
    "import numpy as np\n",
    "\n",
    "c = np.array([-1, 4])\n",
    "A = np.array([[-3, 1],\n",
    "              [ 1, 2]])\n",
    "b = np.array([6, 4])"
   ]
  },
  {
   "cell_type": "markdown",
   "metadata": {},
   "source": [
    "続いて、`callback` 関数を実装します。\n",
    "通常の線形計画問題の最適化では、この実装は不要ですが、ここでは単体法の途中過程を表示するためにこれを用意します。"
   ]
  },
  {
   "cell_type": "code",
   "execution_count": 2,
   "metadata": {},
   "outputs": [],
   "source": [
    "def callback(xk: np.ndarray, **kwargs):\n",
    "    print('===== Iteration #%d =====' % kwargs['nit'])\n",
    "    print('Current: %s' % xk)\n",
    "    print('Tableau:')\n",
    "    print(kwargs['tableau'])\n",
    "    print()"
   ]
  },
  {
   "cell_type": "markdown",
   "metadata": {},
   "source": [
    "SciPy に実装される線形計画ソルバは、`scipy.optimize.linprog` として提供されます。\n",
    "ここでは、このソルバをインポートし、先に用意した各NumPy 行列を渡して単体法による最適化を実行します。\n",
    "ここで、各変数の上下限は、キーワード引数`bounds` として与えます(`None` は制限しないことを表します)。"
   ]
  },
  {
   "cell_type": "code",
   "execution_count": 3,
   "metadata": {},
   "outputs": [
    {
     "name": "stdout",
     "output_type": "stream",
     "text": [
      "===== Iteration #0 =====\n",
      "Current: [0. 0.]\n",
      "Tableau:\n",
      "[[-3.  1.  1.  0.  6.]\n",
      " [ 1.  2.  0.  1.  4.]\n",
      " [-1.  4.  0.  0.  0.]\n",
      " [ 0.  0.  0.  0.  0.]]\n",
      "\n",
      "===== Iteration #0 =====\n",
      "Current: [0. 0.]\n",
      "Tableau:\n",
      "[[-3.  1.  1.  0.  6.]\n",
      " [ 1.  2.  0.  1.  4.]\n",
      " [-1.  4.  0.  0.  0.]]\n",
      "\n",
      "===== Iteration #1 =====\n",
      "Current: [4. 0.]\n",
      "Tableau:\n",
      "[[ 0.  7.  1.  3. 18.]\n",
      " [ 1.  2.  0.  1.  4.]\n",
      " [ 0.  6.  0.  1.  4.]]\n",
      "\n"
     ]
    },
    {
     "data": {
      "text/plain": [
       "     fun: -4.0\n",
       " message: 'Optimization terminated successfully.'\n",
       "     nit: 1\n",
       "   slack: array([18.,  0.])\n",
       "  status: 0\n",
       " success: True\n",
       "       x: array([4., 0.])"
      ]
     },
     "execution_count": 3,
     "metadata": {},
     "output_type": "execute_result"
    }
   ],
   "source": [
    "from scipy.optimize import linprog\n",
    "\n",
    "linprog(c, A, b, bounds=(0, None), method='simplex', callback=callback)"
   ]
  },
  {
   "cell_type": "markdown",
   "metadata": {},
   "source": [
    "## 参考文献\n",
    "  * The SciPy community: [SciPy v1.1.0 Reference Guide](https://docs.scipy.org/doc/scipy/reference/index.html)."
   ]
  }
 ],
 "metadata": {
  "kernelspec": {
   "display_name": "Python 3",
   "language": "python",
   "name": "python3"
  },
  "language_info": {
   "codemirror_mode": {
    "name": "ipython",
    "version": 3
   },
   "file_extension": ".py",
   "mimetype": "text/x-python",
   "name": "python",
   "nbconvert_exporter": "python",
   "pygments_lexer": "ipython3",
   "version": "3.6.6"
  }
 },
 "nbformat": 4,
 "nbformat_minor": 2
}
