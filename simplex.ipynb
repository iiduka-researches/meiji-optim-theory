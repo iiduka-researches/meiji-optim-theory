{
 "cells": [
  {
   "cell_type": "markdown",
   "metadata": {},
   "source": [
    "# 単体法による線形計画問題の解法\n",
    "ここでは、単体法を用いて次の線形計画問題を解くことを考えましょう。\n",
    "\\begin{align*}\n",
    "\\text{Minimize }\n",
    "& c^\\top x\\\\\n",
    "\\text{subject to }\n",
    "& Ax\\le b,\\\\\n",
    "& x\\ge 0,\n",
    "\\end{align*}\n",
    "ただし、\n",
    "\\begin{align*}\n",
    "c&:=(-1, 4)^\\top,\\\\\n",
    "A&:=\\begin{pmatrix}\n",
    "-3 & 1\\\\\n",
    "1 & 2\n",
    "\\end{pmatrix},\\\\\n",
    "b&:=(6, 4)^\\top\n",
    "\\end{align*}\n",
    "とします。\n",
    "\n",
    "単体法による線形計画問題の最適化は、Anaconda に標準で付属しているSciPy に実装されています。\n",
    "今回は、これを用いて最適化を行いましょう。\n",
    "\n",
    "まずは、ベクトル$c\\in\\mathbb{R}^n$、行列$A\\in\\mathbb{R}^{m\\times n}$、ベクトル$b\\in\\mathbb{R}^m$ をそれぞれNumPy 行列として表現します。"
   ]
  },
  {
   "cell_type": "code",
   "execution_count": 1,
   "metadata": {},
   "outputs": [],
   "source": [
    "import numpy as np\n",
    "\n",
    "c = np.array([-1, 4])\n",
    "A = np.array([[-3, 1],\n",
    "              [ 1, 2]])\n",
    "b = np.array([6, 4])"
   ]
  },
  {
   "cell_type": "markdown",
   "metadata": {},
   "source": [
    "続いて、`callback` 関数を実装します。\n",
    "通常の線形計画問題の最適化では、この実装は不要ですが、ここでは単体法の途中過程を表示するためにこれを用意します。"
   ]
  },
  {
   "cell_type": "code",
   "execution_count": 2,
   "metadata": {},
   "outputs": [],
   "source": [
    "def callback(res):\n",
    "    print('===== Iteration #{0} ====='.format(res['nit']))\n",
    "    print('Current: {0}'.format(res['x']))\n",
    "    print('Function Value: {0}'.format(res['fun']))\n",
    "    print('Slack: {0}'.format(res['slack']))\n",
    "    print()"
   ]
  },
  {
   "cell_type": "markdown",
   "metadata": {},
   "source": [
    "SciPy に実装される線形計画ソルバは、`scipy.optimize.linprog` として提供されます。\n",
    "ここでは、このソルバをインポートし、先に用意した各NumPy 行列を渡して単体法による最適化を実行します。\n",
    "ここで、各変数の上下限は、キーワード引数`bounds` として与えます(`None` は制限しないことを表します)。"
   ]
  },
  {
   "cell_type": "code",
   "execution_count": 3,
   "metadata": {
    "tags": []
   },
   "outputs": [
    {
     "output_type": "stream",
     "name": "stdout",
     "text": "===== Iteration #0 =====\nCurrent: [0. 0.]\nFunction Value: 0.0\nSlack: [6. 4.]\n\n===== Iteration #1 =====\nCurrent: [0. 2.]\nFunction Value: 8.0\nSlack: [4. 0.]\n\n===== Iteration #2 =====\nCurrent: [0. 2.]\nFunction Value: 8.0\nSlack: [4. 0.]\n\n===== Iteration #2 =====\nCurrent: [0. 2.]\nFunction Value: 8.0\nSlack: [4. 0.]\n\n===== Iteration #3 =====\nCurrent: [4. 0.]\nFunction Value: -4.0\nSlack: [18.  0.]\n\n"
    },
    {
     "output_type": "execute_result",
     "data": {
      "text/plain": "     con: array([], dtype=float64)\n     fun: -4.0\n message: 'Optimization terminated successfully.'\n     nit: 3\n   slack: array([18.,  0.])\n  status: 0\n success: True\n       x: array([4., 0.])"
     },
     "metadata": {},
     "execution_count": 3
    }
   ],
   "source": [
    "from scipy.optimize import linprog\n",
    "\n",
    "linprog(c, A, b, bounds=(0, None), method='simplex', callback=callback)"
   ]
  },
  {
   "cell_type": "markdown",
   "metadata": {},
   "source": [
    "## 参考文献\n",
    "  * The SciPy community: [SciPy v1.1.0 Reference Guide](https://docs.scipy.org/doc/scipy/reference/index.html)."
   ]
  }
 ],
 "metadata": {
  "kernelspec": {
   "display_name": "Python 3",
   "language": "python",
   "name": "python3"
  },
  "language_info": {
   "codemirror_mode": {
    "name": "ipython",
    "version": 3
   },
   "file_extension": ".py",
   "mimetype": "text/x-python",
   "name": "python",
   "nbconvert_exporter": "python",
   "pygments_lexer": "ipython3",
   "version": "3.7.6-final"
  }
 },
 "nbformat": 4,
 "nbformat_minor": 2
}